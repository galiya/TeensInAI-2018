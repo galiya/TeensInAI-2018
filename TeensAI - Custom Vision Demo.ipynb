{
  "cells": [
    {
      "metadata": {},
      "cell_type": "markdown",
      "source": "## Task 1: Classify images using our own custom data\n\nImagine that we don't want just analyse an image as we did before, but actually to have our own decision engine that can help us to decide if a given image is a cat or dog, if a photo of a handwritten number is a number from 0 to 9, if a picture of a doll resembles a specific character from a cartoon. How can we do this?\n\nWe need to move beyond general Computer Vision API we looked at earlier and start exploring a Custom Visiom API (https://www.customvision.ai)"
    },
    {
      "metadata": {},
      "cell_type": "markdown",
      "source": "![alt text](https://i.kym-cdn.com/photos/images/original/000/575/523/8be.png)"
    },
    {
      "metadata": {
        "trusted": true,
        "scrolled": true
      },
      "cell_type": "code",
      "source": "import httplib, urllib, base64, json\n\ncustomvisionapi_key = #'INSERT YOUR CUSTOM VISION API KEY HERE'\nuri_base = 'southcentralus.api.cognitive.microsoft.com'\nheaders = {\n    'Prediction-Key': customvisionapi_key,\n    'Content-Type': 'application/json'\n}\n\n\nbody = \"{'Url': 'https://i.kym-cdn.com/photos/images/original/000/575/523/8be.png'}\"\n\ncustom_vision_url = \"<GUID>/url\" #'INSERT YOUR URL FROm CUSTOM VISIOPN MODEL PREDICTIVE URL HERE' \n\ntry:\n    # Execute the REST API call and get the response.\n    conn = httplib.HTTPSConnection(uri_base)\n    conn.request(\"POST\", \"/customvision/v2.0/Prediction/\" + custom_vision_url, body, headers)\n    response = conn.getresponse()\n    data = response.read()\n\n    # 'data' contains the JSON data. The following formats the JSON data for display.\n    parsed = json.loads(data.decode())\n    print (\"Response:\")\n    print (json.dumps(parsed, sort_keys=True, indent=2))\n    \n    #print (\"Most likely to be:\")\n    #print (json.dumps(parsed[\"predictions\"][0][\"tagName\"], sort_keys=True, indent=2))\n    \n    conn.close()\n\nexcept Exception as e:\n    print('Error:')\n    print(e)\n\n",
      "execution_count": 2,
      "outputs": [
        {
          "output_type": "stream",
          "text": "Response:\n{\n  \"created\": \"2018-08-23T10:45:26.9546872Z\", \n  \"id\": \"9e4223cd-3f95-49f0-a1df-6a340fed3085\", \n  \"iteration\": \"c3f58498-6580-4a3f-b2d9-a3ad763b92f8\", \n  \"predictions\": [\n    {\n      \"probability\": 0.515397668, \n      \"tagId\": \"9762acad-fea5-4e6c-b5ef-c1bf27f94cca\", \n      \"tagName\": \"applejack\"\n    }, \n    {\n      \"probability\": 0.08763729, \n      \"tagId\": \"4be842be-5b6f-49b5-84e2-e1dc266c97c7\", \n      \"tagName\": \"fluttershy\"\n    }, \n    {\n      \"probability\": 0.0597383864, \n      \"tagId\": \"dd99927b-b60f-47e2-9390-16e0cddc1ca0\", \n      \"tagName\": \"pinkie pie\"\n    }, \n    {\n      \"probability\": 0.00889097247, \n      \"tagId\": \"0b09b659-dcde-473c-890f-4a23021832d9\", \n      \"tagName\": \"twilight sparkle\"\n    }, \n    {\n      \"probability\": 0.008710821, \n      \"tagId\": \"b4e1394b-2c2c-42ac-bf61-7799880066a1\", \n      \"tagName\": \"rainbow dash\"\n    }, \n    {\n      \"probability\": 0.00388518861, \n      \"tagId\": \"e8165cef-d779-46c0-b446-18f110c3e8f9\", \n      \"tagName\": \"princess cadence\"\n    }\n  ], \n  \"project\": \"a5a0bb09-f9c8-45f6-b387-798fd6951f3b\"\n}\n",
          "name": "stdout"
        }
      ]
    },
    {
      "metadata": {},
      "cell_type": "markdown",
      "source": "The End!"
    },
    {
      "metadata": {
        "trusted": true
      },
      "cell_type": "code",
      "source": "",
      "execution_count": null,
      "outputs": []
    }
  ],
  "metadata": {
    "kernelspec": {
      "name": "python2",
      "display_name": "Python 2",
      "language": "python"
    },
    "language_info": {
      "mimetype": "text/x-python",
      "nbconvert_exporter": "python",
      "name": "python",
      "pygments_lexer": "ipython2",
      "version": "2.7.14",
      "file_extension": ".py",
      "codemirror_mode": {
        "version": 2,
        "name": "ipython"
      }
    }
  },
  "nbformat": 4,
  "nbformat_minor": 2
}